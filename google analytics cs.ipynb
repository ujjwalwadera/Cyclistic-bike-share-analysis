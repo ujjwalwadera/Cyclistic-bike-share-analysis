{
 "cells": [
  {
   "cell_type": "code",
   "execution_count": 13,
   "id": "90204b84",
   "metadata": {},
   "outputs": [],
   "source": [
    "import pandas as pd"
   ]
  },
  {
   "cell_type": "code",
   "execution_count": 14,
   "id": "ab8f66d0",
   "metadata": {},
   "outputs": [],
   "source": [
    "csv_list=[\"apr20.csv\",\"may20.csv\",\"jun20.csv\",\"july20.csv\",\"Aug20.csv\",\"sept20.csv\",\"oct20.csv\",\"nov20.csv\",\"dec20.csv\",\"jan21.csv\",\"feb21.csv\",\"mar21.csv\"]"
   ]
  },
  {
   "cell_type": "code",
   "execution_count": 16,
   "id": "f2e01e04",
   "metadata": {},
   "outputs": [],
   "source": [
    "for csv_file in csv_list:\n",
    "    df=pd.read_csv(csv_file)\n",
    "    df.to_csv(\"master.csv\",mode=\"a\",header=False,index=False)\n"
   ]
  }
 ],
 "metadata": {
  "kernelspec": {
   "display_name": "Python 3 (ipykernel)",
   "language": "python",
   "name": "python3"
  },
  "language_info": {
   "codemirror_mode": {
    "name": "ipython",
    "version": 3
   },
   "file_extension": ".py",
   "mimetype": "text/x-python",
   "name": "python",
   "nbconvert_exporter": "python",
   "pygments_lexer": "ipython3",
   "version": "3.9.7"
  }
 },
 "nbformat": 4,
 "nbformat_minor": 5
}
